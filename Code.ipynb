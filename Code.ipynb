{
  "cells": [
    {
      "cell_type": "code",
      "execution_count": 1,
      "metadata": {
        "colab": {
          "base_uri": "https://localhost:8080/"
        },
        "id": "3jkwUEqIQabt",
        "outputId": "bd4cfd52-571f-4d64-e71d-78be4596cd62"
      },
      "outputs": [
        {
          "output_type": "stream",
          "name": "stdout",
          "text": [
            "Requirement already satisfied: idx2numpy in /usr/local/lib/python3.7/dist-packages (1.2.3)\n",
            "Requirement already satisfied: numpy in /usr/local/lib/python3.7/dist-packages (from idx2numpy) (1.21.6)\n",
            "Requirement already satisfied: six in /usr/local/lib/python3.7/dist-packages (from idx2numpy) (1.15.0)\n"
          ]
        }
      ],
      "source": [
        "!pip install idx2numpy"
      ]
    },
    {
      "cell_type": "code",
      "execution_count": 21,
      "metadata": {
        "id": "SuTqUYh2aXTL"
      },
      "outputs": [],
      "source": [
        "import keras\n",
        "from keras.models import Sequential\n",
        "from keras.preprocessing.sequence import pad_sequences\n",
        "from keras.layers import Flatten, Dense, Lambda, Input\n",
        "from keras import layers , activations , models , preprocessing , utils\n",
        "from keras import backend as K\n",
        "from sklearn.model_selection import train_test_split\n",
        "import tensorflow as tf \n",
        "import matplotlib.pyplot as plt\n",
        "from sklearn.cluster import KMeans\n",
        "import sklearn.cluster as cluster\n",
        "import sklearn.metrics as metrics\n",
        "import gzip\n",
        "import numpy as np\n",
        "import matplotlib.pyplot as plt\n",
        "import idx2numpy\n",
        "from sklearn.metrics.cluster import fowlkes_mallows_score\n",
        "from sklearn.metrics.cluster import adjusted_mutual_info_score\n",
        "from sklearn.metrics.cluster import rand_score\n",
        "from sklearn.metrics.cluster import adjusted_rand_score\n",
        "import random\n",
        "\n",
        "random.seed(10)"
      ]
    },
    {
      "cell_type": "code",
      "execution_count": 3,
      "metadata": {
        "colab": {
          "base_uri": "https://localhost:8080/",
          "height": 282
        },
        "id": "5hEx0UHZT7lz",
        "outputId": "96cc05d9-738d-47a8-b19b-5689b8838404"
      },
      "outputs": [
        {
          "output_type": "execute_result",
          "data": {
            "text/plain": [
              "(28, 28)"
            ]
          },
          "metadata": {},
          "execution_count": 3
        },
        {
          "output_type": "display_data",
          "data": {
            "text/plain": [
              "<Figure size 432x288 with 1 Axes>"
            ],
            "image/png": "[encoded data removed]"
          },
          "metadata": {
            "needs_background": "light"
          }
        }
      ],
      "source": [
        "imagefile = gzip.open('train-images-idx3-ubyte.gz','r')\n",
        "imagearray = idx2numpy.convert_from_file(imagefile)\n",
        "\n",
        "#Vẽ thử một tấm ảnh xám thứ 10\n",
        "plt.imshow(imagearray[10], cmap='gray')\n",
        "imagearray[10].shape"
      ]
    },
    {
      "cell_type": "code",
      "execution_count": 4,
      "metadata": {
        "id": "3oYPVQCdj9C5"
      },
      "outputs": [],
      "source": [
        "#Đọc ảnh\n",
        "imagefile = gzip.open('train-images-idx3-ubyte.gz','r')\n",
        "imagearray = idx2numpy.convert_from_file(imagefile)\n",
        "\n",
        "#Tiền xử lí ảnh bằng cách chuẩn hóa ảnh về miền giá trị 0-1\n",
        "imagearray = imagearray.astype('float32') / 255\n",
        "\n",
        "#Đọc nhãn của ảnh\n",
        "labelfile = gzip.open('train-labels-idx1-ubyte.gz','r')\n",
        "imagelabel = idx2numpy.convert_from_file(labelfile)\n",
        "\n",
        "#Chia tập train và test theo tỉ lệ 80%-20%\n",
        "X_train, X_test, y_train, y_test = train_test_split(imagearray, imagelabel, test_size=0.2, stratify=imagelabel, random_state=123)\n",
        "X_train_reshape = np.asarray(X_train).astype('float32').reshape((X_train.shape[0], X_train.shape[1], X_train.shape[2], 1))"
      ]
    },
    {
      "cell_type": "code",
      "execution_count": 5,
      "metadata": {
        "id": "AdoYcISLoB8x"
      },
      "outputs": [],
      "source": [
        "#Hàm sampling để tạo ra \n",
        "def sampling(mu_log_variance):\n",
        "  mu, log_variance = mu_log_variance\n",
        "  epsilon = keras.backend.random_normal(shape=keras.backend.shape(mu), mean=0.0, stddev=1.0)\n",
        "  random_sample = mu + keras.backend.exp(log_variance/2) * epsilon\n",
        "  return random_sample"
      ]
    },
    {
      "cell_type": "code",
      "execution_count": 6,
      "metadata": {
        "id": "LC9_MrJCoNxv"
      },
      "outputs": [],
      "source": [
        "#Hàm mất mát\n",
        "def loss_func(encoder_mu, encoder_log_variance):\n",
        "  def vae_reconstruction_loss(y_true, y_predict):\n",
        "      reconstruction_loss_factor = 1000\n",
        "      reconstruction_loss = keras.backend.mean(keras.backend.square(y_true-y_predict), axis=[1, 2, 3])\n",
        "      return reconstruction_loss_factor * reconstruction_loss\n",
        "\n",
        "  def vae_kl_loss(encoder_mu, encoder_log_variance):\n",
        "      kl_loss = -0.5 * keras.backend.sum(1.0 + encoder_log_variance - keras.backend.square(encoder_mu) - keras.backend.exp(encoder_log_variance), axis=1)\n",
        "      return kl_loss\n",
        "\n",
        "  def vae_kl_loss_metric(y_true, y_predict):\n",
        "      kl_loss = -0.5 * keras.backend.sum(1.0 + encoder_log_variance - keras.backend.square(encoder_mu) - keras.backend.exp(encoder_log_variance), axis=1)\n",
        "      return kl_loss\n",
        "\n",
        "  def vae_loss(y_true, y_predict):\n",
        "      reconstruction_loss = vae_reconstruction_loss(y_true, y_predict)\n",
        "      kl_loss = vae_kl_loss(y_true, y_predict)\n",
        "\n",
        "      loss = reconstruction_loss + kl_loss\n",
        "      return loss\n",
        "\n",
        "  return vae_loss"
      ]
    },
    {
      "cell_type": "code",
      "execution_count": 7,
      "metadata": {
        "colab": {
          "base_uri": "https://localhost:8080/"
        },
        "id": "6hp6YtrPoB9i",
        "outputId": "213a1ad9-6564-462c-8fe3-1962b5e7a073"
      },
      "outputs": [
        {
          "output_type": "stream",
          "name": "stdout",
          "text": [
            "Model: \"encoder_model\"\n",
            "__________________________________________________________________________________________________\n",
            " Layer (type)                   Output Shape         Param #     Connected to                     \n",
            "==================================================================================================\n",
            " encoder_input (InputLayer)     [(None, 28, 28, 1)]  0           []                               \n",
            "                                                                                                  \n",
            " encoder_convolutional_layer_1   (None, 26, 26, 1)   10          ['encoder_input[0][0]']          \n",
            " (Conv2D)                                                                                         \n",
            "                                                                                                  \n",
            " encoder_normalization_layer_1   (None, 26, 26, 1)   4           ['encoder_convolutional_layer_1[0\n",
            " (BatchNormalization)                                            ][0]']                           \n",
            "                                                                                                  \n",
            " encoder_convolutional_layer_2   (None, 24, 24, 32)  320         ['encoder_normalization_layer_1[0\n",
            " (Conv2D)                                                        ][0]']                           \n",
            "                                                                                                  \n",
            " encoder_normalization_layer_2   (None, 24, 24, 32)  128         ['encoder_convolutional_layer_2[0\n",
            " (BatchNormalization)                                            ][0]']                           \n",
            "                                                                                                  \n",
            " encoder_convolutional_layer_3   (None, 22, 22, 64)  18496       ['encoder_normalization_layer_2[0\n",
            " (Conv2D)                                                        ][0]']                           \n",
            "                                                                                                  \n",
            " encoder_normalization_layer_3   (None, 22, 22, 64)  256         ['encoder_convolutional_layer_3[0\n",
            " (BatchNormalization)                                            ][0]']                           \n",
            "                                                                                                  \n",
            " encoder_convolutional_layer_4   (None, 20, 20, 64)  36928       ['encoder_normalization_layer_3[0\n",
            " (Conv2D)                                                        ][0]']                           \n",
            "                                                                                                  \n",
            " encoder_normalization_layer_4   (None, 20, 20, 64)  256         ['encoder_convolutional_layer_4[0\n",
            " (BatchNormalization)                                            ][0]']                           \n",
            "                                                                                                  \n",
            " encoder_convolutional_layer_5   (None, 18, 18, 64)  36928       ['encoder_normalization_layer_4[0\n",
            " (Conv2D)                                                        ][0]']                           \n",
            "                                                                                                  \n",
            " encoder_normalization_layer_5   (None, 18, 18, 64)  256         ['encoder_convolutional_layer_5[0\n",
            " (BatchNormalization)                                            ][0]']                           \n",
            "                                                                                                  \n",
            " flatten (Flatten)              (None, 20736)        0           ['encoder_normalization_layer_5[0\n",
            "                                                                 ][0]']                           \n",
            "                                                                                                  \n",
            " encoder_mu (Dense)             (None, 2)            41474       ['flatten[0][0]']                \n",
            "                                                                                                  \n",
            " encoder_log_variance (Dense)   (None, 2)            41474       ['flatten[0][0]']                \n",
            "                                                                                                  \n",
            " lambda (Lambda)                (None, 2)            0           ['encoder_mu[0][0]',             \n",
            "                                                                  'encoder_log_variance[0][0]']   \n",
            "                                                                                                  \n",
            "==================================================================================================\n",
            "Total params: 176,530\n",
            "Trainable params: 176,080\n",
            "Non-trainable params: 450\n",
            "__________________________________________________________________________________________________\n"
          ]
        }
      ],
      "source": [
        "#Tạo mô hình encoder\n",
        "\n",
        "# Lớp input của encoder\n",
        "encoder_input = keras.Input(shape=(28, 28, 1), name='encoder_input')\n",
        "\n",
        "#Lớp convolutional thứ 1\n",
        "encoder_convolutional_layer_1 = layers.Conv2D(filters=1, kernel_size=(3, 3), activation='relu', name='encoder_convolutional_layer_1')(encoder_input)\n",
        "encoder_normalization_layer_1 = layers.BatchNormalization(name=\"encoder_normalization_layer_1\")(encoder_convolutional_layer_1)\n",
        "\n",
        "#Lớp convolutional thứ 2\n",
        "encoder_convolutional_layer_2 = layers.Conv2D(filters=32, kernel_size=(3, 3), activation='relu', name='encoder_convolutional_layer_2')(encoder_normalization_layer_1)\n",
        "encoder_normalization_layer_2 = layers.BatchNormalization(name=\"encoder_normalization_layer_2\")(encoder_convolutional_layer_2)\n",
        "\n",
        "#Lớp convolutional thứ 3\n",
        "encoder_convolutional_layer_3 = layers.Conv2D(filters=64, kernel_size=(3, 3), activation='relu', name='encoder_convolutional_layer_3')(encoder_normalization_layer_2)\n",
        "encoder_normalization_layer_3 = layers.BatchNormalization(name=\"encoder_normalization_layer_3\")(encoder_convolutional_layer_3)\n",
        "\n",
        "#Lớp convolutional thứ 4\n",
        "encoder_convolutional_layer_4 = layers.Conv2D(filters=64, kernel_size=(3, 3), activation='relu', name='encoder_convolutional_layer_4')(encoder_normalization_layer_3)\n",
        "encoder_normalization_layer_4 = layers.BatchNormalization(name=\"encoder_normalization_layer_4\")(encoder_convolutional_layer_4)\n",
        "\n",
        "#Lớp convolutional thứ 5\n",
        "encoder_convolutional_layer_5 = layers.Conv2D(filters=64, kernel_size=(3, 3), activation='relu', name='encoder_convolutional_layer_5')(encoder_normalization_layer_4)\n",
        "encoder_normalization_layer_5 = layers.BatchNormalization(name=\"encoder_normalization_layer_5\")(encoder_convolutional_layer_5)\n",
        "\n",
        "#Lớp làm phẳng\n",
        "encoder_flatten = layers.Flatten()(encoder_normalization_layer_5)\n",
        "\n",
        "#Tham số điều chỉnh số node ở latent space\n",
        "latent_space_dim = 2\n",
        "\n",
        "#Tạo ra vector mu\n",
        "encoder_mu = keras.layers.Dense(units=latent_space_dim, name=\"encoder_mu\")(encoder_flatten)\n",
        "encoder_log_variance = keras.layers.Dense(units=latent_space_dim, name=\"encoder_log_variance\")(encoder_flatten)\n",
        "\n",
        "encoder_output = layers.Lambda(sampling)([encoder_mu, encoder_log_variance])\n",
        "\n",
        "encoder_model = models.Model(encoder_input, encoder_output, name=\"encoder_model\")\n",
        "encoder_model.summary()"
      ]
    },
    {
      "cell_type": "code",
      "execution_count": 8,
      "metadata": {
        "colab": {
          "base_uri": "https://localhost:8080/"
        },
        "id": "4BBvMnXayf1s",
        "outputId": "17258f5b-a845-4419-d787-d8270e875a92"
      },
      "outputs": [
        {
          "output_type": "stream",
          "name": "stdout",
          "text": [
            "Model: \"decoder_model\"\n",
            "_________________________________________________________________\n",
            " Layer (type)                Output Shape              Param #   \n",
            "=================================================================\n",
            " input_1 (InputLayer)        [(None, 2)]               0         \n",
            "                                                                 \n",
            " decoder_dense_layer_1 (Dens  (None, 3136)             9408      \n",
            " e)                                                              \n",
            "                                                                 \n",
            " reshape (Reshape)           (None, 7, 7, 64)          0         \n",
            "                                                                 \n",
            " decoder_convolutional_tranp  (None, 7, 7, 64)         36928     \n",
            " ose_layer_1 (Conv2DTranspos                                     \n",
            " e)                                                              \n",
            "                                                                 \n",
            " decoder_normalization_layer  (None, 7, 7, 64)         256       \n",
            " _1 (BatchNormalization)                                         \n",
            "                                                                 \n",
            " decoder_convolutional_tranp  (None, 14, 14, 64)       36928     \n",
            " ose_layer_2 (Conv2DTranspos                                     \n",
            " e)                                                              \n",
            "                                                                 \n",
            " decoder_normalization_layer  (None, 14, 14, 64)       256       \n",
            " _2 (BatchNormalization)                                         \n",
            "                                                                 \n",
            " decoder_convolutional_tranp  (None, 28, 28, 64)       36928     \n",
            " ose_layer_3 (Conv2DTranspos                                     \n",
            " e)                                                              \n",
            "                                                                 \n",
            " decoder_normalization_layer  (None, 28, 28, 64)       256       \n",
            " _3 (BatchNormalization)                                         \n",
            "                                                                 \n",
            " decoder_convolutional_tranp  (None, 28, 28, 1)        577       \n",
            " ose_layer_4 (Conv2DTranspos                                     \n",
            " e)                                                              \n",
            "                                                                 \n",
            "=================================================================\n",
            "Total params: 121,537\n",
            "Trainable params: 121,153\n",
            "Non-trainable params: 384\n",
            "_________________________________________________________________\n"
          ]
        }
      ],
      "source": [
        "#Tạo mô hình decoder\n",
        "\n",
        "decoder_input = keras.layers.Input(shape=(latent_space_dim))\n",
        "\n",
        "decoder_dense_layer_1 = keras.layers.Dense(units=7 * 7 * 64, name=\"decoder_dense_layer_1\")(decoder_input)\n",
        "\n",
        "decoder_reshape = keras.layers.Reshape(target_shape=(7, 7, 64))(decoder_dense_layer_1)\n",
        "\n",
        "decoder_convolutional_tranpose_layer_1 = keras.layers.Conv2DTranspose(filters=64, kernel_size=(3, 3), padding='same', strides=1, activation='relu', name=\"decoder_convolutional_tranpose_layer_1\")(decoder_reshape)\n",
        "decoder_normalization_layer_1 = layers.BatchNormalization(name=\"decoder_normalization_layer_1\")(decoder_convolutional_tranpose_layer_1)\n",
        "\n",
        "decoder_convolutional_tranpose_layer_2 = keras.layers.Conv2DTranspose(filters=64, kernel_size=(3, 3), padding='same',  strides=2, activation='relu', name=\"decoder_convolutional_tranpose_layer_2\")(decoder_normalization_layer_1)\n",
        "decoder_normalization_layer_2 = layers.BatchNormalization(name=\"decoder_normalization_layer_2\")(decoder_convolutional_tranpose_layer_2)\n",
        "\n",
        "decoder_convolutional_tranpose_layer_3 = keras.layers.Conv2DTranspose(filters=64, kernel_size=(3, 3), padding='same',  strides=2, activation='relu', name=\"decoder_convolutional_tranpose_layer_3\")(decoder_normalization_layer_2)\n",
        "decoder_normalization_layer_3 = layers.BatchNormalization(name=\"decoder_normalization_layer_3\")(decoder_convolutional_tranpose_layer_3)\n",
        "\n",
        "decoder_convolutional_tranpose_layer_4 = keras.layers.Conv2DTranspose(filters=1, kernel_size=(3, 3), padding='same', strides=1, activation='sigmoid', name=\"decoder_convolutional_tranpose_layer_4\")(decoder_normalization_layer_3)\n",
        "\n",
        "decoder_model = models.Model(decoder_input, decoder_convolutional_tranpose_layer_4, name=\"decoder_model\")\n",
        "\n",
        "decoder_model.summary()"
      ]
    },
    {
      "cell_type": "code",
      "execution_count": 9,
      "metadata": {
        "colab": {
          "base_uri": "https://localhost:8080/"
        },
        "id": "NAd5UpIQ2fGE",
        "outputId": "1e9c0ba7-7de1-4aec-ead1-ddef0391252a"
      },
      "outputs": [
        {
          "output_type": "stream",
          "name": "stdout",
          "text": [
            "Model: \"vae_model\"\n",
            "_________________________________________________________________\n",
            " Layer (type)                Output Shape              Param #   \n",
            "=================================================================\n",
            " vae_input (InputLayer)      [(None, 28, 28, 1)]       0         \n",
            "                                                                 \n",
            " encoder_model (Functional)  (None, 2)                 176530    \n",
            "                                                                 \n",
            " decoder_model (Functional)  (None, 28, 28, 1)         121537    \n",
            "                                                                 \n",
            "=================================================================\n",
            "Total params: 298,067\n",
            "Trainable params: 297,233\n",
            "Non-trainable params: 834\n",
            "_________________________________________________________________\n"
          ]
        }
      ],
      "source": [
        "vae_input = keras.layers.Input(shape=(28, 28, 1), name=\"vae_input\")\n",
        "vae_encoder_output = encoder_model(vae_input)\n",
        "vae_decoder_output = decoder_model(vae_encoder_output)\n",
        "\n",
        "vae_model = models.Model(vae_input, vae_decoder_output, name=\"vae_model\")\n",
        "\n",
        "vae_model.summary()\n",
        "\n",
        "vae_model.compile(optimizer=tf.optimizers.Adam(learning_rate=0.0005), loss=loss_func(encoder_mu, encoder_log_variance))"
      ]
    },
    {
      "cell_type": "code",
      "execution_count": 10,
      "metadata": {
        "colab": {
          "base_uri": "https://localhost:8080/"
        },
        "id": "tY2hQks3BPii",
        "outputId": "8c502b26-4ebe-4711-e675-dfdc476802a5"
      },
      "outputs": [
        {
          "output_type": "stream",
          "name": "stdout",
          "text": [
            "Epoch 1/20\n",
            "1500/1500 [==============================] - 634s 422ms/step - loss: 51.9531 - val_loss: 303.9249\n",
            "Epoch 2/20\n",
            "1500/1500 [==============================] - 603s 402ms/step - loss: 38.8350 - val_loss: 220.7361\n",
            "Epoch 3/20\n",
            "1500/1500 [==============================] - 599s 399ms/step - loss: 36.0171 - val_loss: 35.0173\n",
            "Epoch 4/20\n",
            "1500/1500 [==============================] - 607s 405ms/step - loss: 35.1120 - val_loss: 33.9641\n",
            "Epoch 5/20\n",
            "1500/1500 [==============================] - 604s 402ms/step - loss: 34.4881 - val_loss: 34.2192\n",
            "Epoch 6/20\n",
            "1500/1500 [==============================] - 603s 402ms/step - loss: 33.9968 - val_loss: 33.3089\n",
            "Epoch 7/20\n",
            "1500/1500 [==============================] - 603s 402ms/step - loss: 33.6321 - val_loss: 32.9278\n",
            "Epoch 8/20\n",
            "1500/1500 [==============================] - 604s 403ms/step - loss: 35.2635 - val_loss: 34.1144\n",
            "Epoch 9/20\n",
            "1500/1500 [==============================] - 599s 399ms/step - loss: 33.7532 - val_loss: 32.9037\n",
            "Epoch 10/20\n",
            "1500/1500 [==============================] - 604s 403ms/step - loss: 33.1996 - val_loss: 32.4742\n",
            "Epoch 11/20\n",
            "1500/1500 [==============================] - 617s 411ms/step - loss: 33.0015 - val_loss: 32.3946\n",
            "Epoch 12/20\n",
            "1500/1500 [==============================] - 605s 403ms/step - loss: 32.8321 - val_loss: 32.6240\n",
            "Epoch 13/20\n",
            "1500/1500 [==============================] - 609s 406ms/step - loss: 32.6853 - val_loss: 36.7137\n",
            "Epoch 14/20\n",
            "1500/1500 [==============================] - 601s 401ms/step - loss: 33.5121 - val_loss: 119.9234\n",
            "Epoch 15/20\n",
            "1500/1500 [==============================] - 602s 402ms/step - loss: 33.0821 - val_loss: 175.6801\n",
            "Epoch 16/20\n",
            "1500/1500 [==============================] - 607s 405ms/step - loss: 32.4219 - val_loss: 154.3559\n",
            "Epoch 17/20\n",
            "1500/1500 [==============================] - 609s 406ms/step - loss: 32.2125 - val_loss: 147.0215\n",
            "Epoch 18/20\n",
            "1500/1500 [==============================] - 603s 402ms/step - loss: 32.1152 - val_loss: 32.0414\n",
            "Epoch 19/20\n",
            "1500/1500 [==============================] - 608s 405ms/step - loss: 32.0417 - val_loss: 31.6370\n",
            "Epoch 20/20\n",
            "1500/1500 [==============================] - 608s 405ms/step - loss: 31.9714 - val_loss: 31.7717\n"
          ]
        },
        {
          "output_type": "execute_result",
          "data": {
            "text/plain": [
              "<keras.callbacks.History at 0x7f133891f990>"
            ]
          },
          "metadata": {},
          "execution_count": 10
        }
      ],
      "source": [
        "#Huyấn luyện model\n",
        "history = vae_model.fit(X_train_reshape, X_train_reshape, epochs=20, batch_size=32, validation_data=(X_train_reshape, X_train_reshape), verbose = 1)"
      ]
    },
    {
      "cell_type": "code",
      "source": [
        "#Lưu lại model đã train\n",
        "vae_model.save(\"VAE_MODEL.h5\")"
      ],
      "metadata": {
        "id": "6PLPUi4meQnc"
      },
      "execution_count": 54,
      "outputs": []
    },
    {
      "cell_type": "code",
      "source": [
        "# Vị trí bất kì để trong tập dữ liệu để hiển thị ảnh\n",
        "start = 2700\n",
        "\n",
        "# Ảnh sau khi đã được giải mã\n",
        "restored_imgs = vae_model.predict(X_train)\n",
        "\n",
        "# Số lượng ảnh để hiển thị\n",
        "n = 10\n",
        "plt.figure(figsize=(20, 4))\n",
        "\n",
        "for i in range(1, n + 1):\n",
        "    # Vẽ ảnh gốc\n",
        "    ax = plt.subplot(2, n, i)\n",
        "    plt.imshow(X_train[i+start].reshape(28, 28))\n",
        "    plt.gray()\n",
        "    ax.get_xaxis().set_visible(False)\n",
        "    ax.get_yaxis().set_visible(False)\n",
        "\n",
        "    # Vẽ ảnh đã được giải mã\n",
        "    ax = plt.subplot(2, n, i + n)\n",
        "    plt.imshow(restored_imgs[i+start].reshape(28, 28))\n",
        "    plt.gray()\n",
        "    ax.get_xaxis().set_visible(False)\n",
        "    ax.get_yaxis().set_visible(False)\n",
        "plt.show()"
      ],
      "metadata": {
        "colab": {
          "base_uri": "https://localhost:8080/",
          "height": 248
        },
        "id": "gKvX7243YFcq",
        "outputId": "9b3197b4-8420-4860-dd81-904a7d9dd92b"
      },
      "execution_count": 37,
      "outputs": [
        {
          "output_type": "display_data",
          "data": {
            "text/plain": [
              "<Figure size 1440x288 with 20 Axes>"
            ],
            "image/png": "[encoded data removed]"
          },
          "metadata": {
            "needs_background": "light"
          }
        }
      ]
    },
    {
      "cell_type": "code",
      "execution_count": 11,
      "metadata": {
        "id": "jMkmFHrYdoMQ"
      },
      "outputs": [],
      "source": [
        "true_label = y_test"
      ]
    },
    {
      "cell_type": "code",
      "execution_count": 28,
      "metadata": {
        "colab": {
          "base_uri": "https://localhost:8080/"
        },
        "id": "VjHKhzyneqmm",
        "outputId": "3062163b-93dc-427f-84ec-b6767e7ad904"
      },
      "outputs": [
        {
          "output_type": "stream",
          "name": "stdout",
          "text": [
            "0.3845373306139258\n",
            "0.45335759046570256\n"
          ]
        }
      ],
      "source": [
        "#Thử độ chính xác khi gom cụm dữ liệu với K-means kết hợp encoder để ánh xạ dữ liệu\n",
        "\n",
        "encoded_imgs = encoder_model.predict(X_test)\n",
        "\n",
        "encoded_imgs_reshape = [i.flatten() for i in encoded_imgs]\n",
        "\n",
        "km_with_encoder = KMeans(n_clusters=10)\n",
        "clustered_set_with_encoder = km_with_encoder.fit_predict(encoded_imgs_reshape)\n",
        "\n",
        "\n",
        "print(adjusted_rand_score(true_label, clustered_set_with_encoder))\n",
        "\n",
        "print(fowlkes_mallows_score(true_label, clustered_set_with_encoder))"
      ]
    },
    {
      "cell_type": "code",
      "execution_count": 29,
      "metadata": {
        "colab": {
          "base_uri": "https://localhost:8080/"
        },
        "id": "9DaWHwPlbs_K",
        "outputId": "6a374dc9-45a6-4fda-f9c6-442fe4c4ba54"
      },
      "outputs": [
        {
          "output_type": "stream",
          "name": "stdout",
          "text": [
            "0.3437875481067457\n",
            "0.416379084460129\n"
          ]
        }
      ],
      "source": [
        "#Thử độ chính xác khi gom cụm dữ liệu với K-means mà không sử dụng encoder để ánh xạ dữ liệu\n",
        "\n",
        "km_without_encoder = KMeans(n_clusters=10)\n",
        "\n",
        "imagearray_flattened = [i.flatten() for i in X_test]\n",
        "\n",
        "clustered_set_without_encoder = km_without_encoder.fit_predict(imagearray_flattened)\n",
        "\n",
        "\n",
        "print(adjusted_rand_score(true_label, clustered_set_without_encoder))\n",
        "\n",
        "print(fowlkes_mallows_score(true_label, clustered_set_without_encoder))"
      ]
    }
  ],
  "metadata": {
    "colab": {
      "collapsed_sections": [],
      "name": "MyVAE.ipynb",
      "provenance": []
    },
    "kernelspec": {
      "display_name": "Python 3",
      "name": "python3"
    },
    "language_info": {
      "name": "python"
    }
  },
  "nbformat": 4,
  "nbformat_minor": 0
}